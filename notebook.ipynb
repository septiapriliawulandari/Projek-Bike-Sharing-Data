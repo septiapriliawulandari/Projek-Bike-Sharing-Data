{
 "cells": [
  {
   "cell_type": "markdown",
   "metadata": {},
   "source": [
    "Proyek Analisis Data: Analisis Bike Sharing Dataset\n",
    "\n",
    "Nama: Septi Aprilia Wulandari  \n",
    "Email: septiapriliawulandari1@gmail.com  \n",
    "ID Dicoding: septi-aprilia-w"
   ]
  },
  {
   "cell_type": "markdown",
   "metadata": {},
   "source": [
    "Menentukan Pertanyaan Bisnis\n",
    "\n",
    "- Pertanyaan 1: Bagaimana Pengaruh Cuaca dan Musim Terhadap Jumlah Penyewaan Sepeda?\n",
    "- Pertanyaan 2: Pada Jam Berapa Penyewaan Sepeda Terjadi Paling Banyak?"
   ]
  },
  {
   "cell_type": "markdown",
   "metadata": {},
   "source": [
    "Import Semua Packages/Library yang Digunakan"
   ]
  },
  {
   "cell_type": "code",
   "execution_count": null,
   "metadata": {},
   "outputs": [],
   "source": [
    "import pandas as pd\n",
    "import numpy as np\n",
    "import matplotlib.pyplot as plt\n",
    "import seaborn as sns\n",
    "import streamlit as st\n"
   ]
  },
  {
   "cell_type": "markdown",
   "metadata": {},
   "source": [
    "Data Wrangling"
   ]
  },
  {
   "cell_type": "markdown",
   "metadata": {},
   "source": [
    "Gathering Data"
   ]
  },
  {
   "cell_type": "code",
   "execution_count": null,
   "metadata": {},
   "outputs": [],
   "source": [
    "day_data = pd.read_csv('data/day.csv')\n",
    "hour_data = pd.read_csv('data/hour.csv')\n"
   ]
  },
  {
   "cell_type": "markdown",
   "metadata": {},
   "source": [
    "Assesing Data"
   ]
  },
  {
   "cell_type": "code",
   "execution_count": null,
   "metadata": {},
   "outputs": [],
   "source": [
    "# Melihat data harian\n",
    "print(day_data.head())\n",
    "\n",
    "# Melihat data per jam\n",
    "print(hour_data.head())\n"
   ]
  },
  {
   "cell_type": "markdown",
   "metadata": {},
   "source": [
    "Cleaning Data\n",
    "\n",
    "Mengonversi kolom dteday menjadi tipe datetime."
   ]
  },
  {
   "cell_type": "code",
   "execution_count": null,
   "metadata": {},
   "outputs": [],
   "source": [
    "day_data['dteday'] = pd.to_datetime(day_data['dteday'])\n"
   ]
  },
  {
   "cell_type": "markdown",
   "metadata": {},
   "source": [
    "Exploratory Data Analysis (EDA)\n",
    "\n",
    "Analisis korelasi antar fitur."
   ]
  },
  {
   "cell_type": "code",
   "execution_count": null,
   "metadata": {},
   "outputs": [],
   "source": [
    "numeric_columns = day_data.select_dtypes(include=['number'])\n",
    "plt.figure(figsize=(12, 8))\n",
    "sns.heatmap(numeric_columns.corr(), annot=True, cmap='coolwarm', fmt='.2f', linewidths=0.5)\n",
    "plt.title('Heatmap Korelasi Antar Fitur')\n",
    "plt.show()\n"
   ]
  },
  {
   "cell_type": "markdown",
   "metadata": {},
   "source": [
    " Visualization & Explanatory Analysis"
   ]
  },
  {
   "cell_type": "markdown",
   "metadata": {},
   "source": [
    "Pertanyaan 1: Bagaimana Pengaruh Cuaca dan Musim Terhadap Jumlah Penyewaan Sepeda?"
   ]
  },
  {
   "cell_type": "code",
   "execution_count": null,
   "metadata": {},
   "outputs": [],
   "source": [
    "weather_season_grouped = day_data.groupby(['weathersit', 'season']).agg({'cnt': 'mean'}).reset_index()\n",
    "plt.figure(figsize=(12, 6))\n",
    "sns.barplot(x='weathersit', y='cnt', hue='season', data=weather_season_grouped)\n",
    "plt.title('Rata-Rata Jumlah Penyewaan Sepeda Berdasarkan Cuaca dan Musim')\n",
    "plt.xlabel('Situasi Cuaca')\n",
    "plt.ylabel('Rata-Rata Jumlah Penyewaan')\n",
    "plt.show()\n"
   ]
  },
  {
   "cell_type": "markdown",
   "metadata": {},
   "source": [
    "Pertanyaan 2: Pada Jam Berapa Penyewaan Sepeda Terjadi Paling Banyak?"
   ]
  },
  {
   "cell_type": "code",
   "execution_count": null,
   "metadata": {},
   "outputs": [],
   "source": [
    "hour_grouped = hour_data.groupby('hr').agg({'cnt': 'mean'}).reset_index()\n",
    "plt.figure(figsize=(12, 6))\n",
    "sns.barplot(x='hr', y='cnt', data=hour_grouped, palette='Blues_d')\n",
    "plt.title('Rata-Rata Jumlah Penyewaan Sepeda Berdasarkan Jam')\n",
    "plt.xlabel('Jam dalam Sehari')\n",
    "plt.ylabel('Rata-Rata Jumlah Penyewaan')\n",
    "plt.show()\n"
   ]
  },
  {
   "cell_type": "markdown",
   "metadata": {},
   "source": [
    "Conclusion"
   ]
  },
  {
   "cell_type": "markdown",
   "metadata": {},
   "source": [
    "Conclusion Pertanyaan 1\n",
    "\n",
    "- Cuaca dan musim mempengaruhi jumlah penyewaan sepeda, dengan cuaca yang lebih baik dan musim yang lebih hangat meningkatkan jumlah penyewaan."
   ]
  },
  {
   "cell_type": "markdown",
   "metadata": {},
   "source": [
    "Conclusion Pertanyaan 2\n",
    "\n",
    "- Jam sibuk penyewaan sepeda terjadi pada pagi hari sekitar jam 8 dan sore hari sekitar jam 17, yang kemungkinan besar terkait dengan waktu berangkat dan pulang kerja."
   ]
  }
 ],
 "metadata": {
  "kernelspec": {
   "display_name": "Python 3",
   "language": "python",
   "name": "python3"
  },
  "language_info": {
   "codemirror_mode": {
    "name": "ipython",
    "version": 3
   },
   "file_extension": ".py",
   "mimetype": "text/x-python",
   "name": "python",
   "nbconvert_exporter": "python",
   "pygments_lexer": "ipython3",
   "version": "3.12.4"
  }
 },
 "nbformat": 4,
 "nbformat_minor": 2
}
